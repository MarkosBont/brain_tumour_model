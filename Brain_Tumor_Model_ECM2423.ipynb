{
  "nbformat": 4,
  "nbformat_minor": 0,
  "metadata": {
    "colab": {
      "provenance": [],
      "authorship_tag": "ABX9TyPx0y5qY+q3l1dDZ/NItjP0",
      "include_colab_link": true
    },
    "kernelspec": {
      "name": "python3",
      "display_name": "Python 3"
    },
    "language_info": {
      "name": "python"
    }
  },
  "cells": [
    {
      "cell_type": "markdown",
      "metadata": {
        "id": "view-in-github",
        "colab_type": "text"
      },
      "source": [
        "<a href=\"https://colab.research.google.com/github/MarkosBont/brain_tumour_model/blob/main/Brain_Tumor_Model_ECM2423.ipynb\" target=\"_parent\"><img src=\"https://colab.research.google.com/assets/colab-badge.svg\" alt=\"Open In Colab\"/></a>"
      ]
    },
    {
      "cell_type": "code",
      "source": [
        "# This section focuses on importing the zip file from the user's local machine\n",
        "from google.colab import files\n",
        "import zipfile\n",
        "\n",
        "uploaded = files.upload() # Will give the user a prompt to upload the zip file\n",
        "\n",
        "# Extracting the dataset from the zip file\n",
        "with zipfile.ZipFile(\"brain_tumor_dataset.zip\", 'r') as zip_ref:\n",
        "    zip_ref.extractall(\"/content/\")\n",
        "\n",
        "# Defining the path for the dataset, this is the structure since there is the brain_tumor_dataset folder within the zip, and not directly the yes, no folders\n",
        "dataset_path = \"/content/brain_tumor_dataset/brain_tumor_dataset\"\n",
        "\n",
        "print(\"Dataset uploaded, the path is \" + dataset_path) # Ensuring that there are no errors with the upload of the file\n"
      ],
      "metadata": {
        "colab": {
          "base_uri": "https://localhost:8080/",
          "height": 92
        },
        "id": "M9swRDpvZMyC",
        "outputId": "da00d391-4e1c-4fec-85cd-b8c67ed946b3"
      },
      "execution_count": null,
      "outputs": [
        {
          "output_type": "display_data",
          "data": {
            "text/plain": [
              "<IPython.core.display.HTML object>"
            ],
            "text/html": [
              "\n",
              "     <input type=\"file\" id=\"files-ffa24d73-7b2c-44a5-a25c-389907e4e098\" name=\"files[]\" multiple disabled\n",
              "        style=\"border:none\" />\n",
              "     <output id=\"result-ffa24d73-7b2c-44a5-a25c-389907e4e098\">\n",
              "      Upload widget is only available when the cell has been executed in the\n",
              "      current browser session. Please rerun this cell to enable.\n",
              "      </output>\n",
              "      <script>// Copyright 2017 Google LLC\n",
              "//\n",
              "// Licensed under the Apache License, Version 2.0 (the \"License\");\n",
              "// you may not use this file except in compliance with the License.\n",
              "// You may obtain a copy of the License at\n",
              "//\n",
              "//      http://www.apache.org/licenses/LICENSE-2.0\n",
              "//\n",
              "// Unless required by applicable law or agreed to in writing, software\n",
              "// distributed under the License is distributed on an \"AS IS\" BASIS,\n",
              "// WITHOUT WARRANTIES OR CONDITIONS OF ANY KIND, either express or implied.\n",
              "// See the License for the specific language governing permissions and\n",
              "// limitations under the License.\n",
              "\n",
              "/**\n",
              " * @fileoverview Helpers for google.colab Python module.\n",
              " */\n",
              "(function(scope) {\n",
              "function span(text, styleAttributes = {}) {\n",
              "  const element = document.createElement('span');\n",
              "  element.textContent = text;\n",
              "  for (const key of Object.keys(styleAttributes)) {\n",
              "    element.style[key] = styleAttributes[key];\n",
              "  }\n",
              "  return element;\n",
              "}\n",
              "\n",
              "// Max number of bytes which will be uploaded at a time.\n",
              "const MAX_PAYLOAD_SIZE = 100 * 1024;\n",
              "\n",
              "function _uploadFiles(inputId, outputId) {\n",
              "  const steps = uploadFilesStep(inputId, outputId);\n",
              "  const outputElement = document.getElementById(outputId);\n",
              "  // Cache steps on the outputElement to make it available for the next call\n",
              "  // to uploadFilesContinue from Python.\n",
              "  outputElement.steps = steps;\n",
              "\n",
              "  return _uploadFilesContinue(outputId);\n",
              "}\n",
              "\n",
              "// This is roughly an async generator (not supported in the browser yet),\n",
              "// where there are multiple asynchronous steps and the Python side is going\n",
              "// to poll for completion of each step.\n",
              "// This uses a Promise to block the python side on completion of each step,\n",
              "// then passes the result of the previous step as the input to the next step.\n",
              "function _uploadFilesContinue(outputId) {\n",
              "  const outputElement = document.getElementById(outputId);\n",
              "  const steps = outputElement.steps;\n",
              "\n",
              "  const next = steps.next(outputElement.lastPromiseValue);\n",
              "  return Promise.resolve(next.value.promise).then((value) => {\n",
              "    // Cache the last promise value to make it available to the next\n",
              "    // step of the generator.\n",
              "    outputElement.lastPromiseValue = value;\n",
              "    return next.value.response;\n",
              "  });\n",
              "}\n",
              "\n",
              "/**\n",
              " * Generator function which is called between each async step of the upload\n",
              " * process.\n",
              " * @param {string} inputId Element ID of the input file picker element.\n",
              " * @param {string} outputId Element ID of the output display.\n",
              " * @return {!Iterable<!Object>} Iterable of next steps.\n",
              " */\n",
              "function* uploadFilesStep(inputId, outputId) {\n",
              "  const inputElement = document.getElementById(inputId);\n",
              "  inputElement.disabled = false;\n",
              "\n",
              "  const outputElement = document.getElementById(outputId);\n",
              "  outputElement.innerHTML = '';\n",
              "\n",
              "  const pickedPromise = new Promise((resolve) => {\n",
              "    inputElement.addEventListener('change', (e) => {\n",
              "      resolve(e.target.files);\n",
              "    });\n",
              "  });\n",
              "\n",
              "  const cancel = document.createElement('button');\n",
              "  inputElement.parentElement.appendChild(cancel);\n",
              "  cancel.textContent = 'Cancel upload';\n",
              "  const cancelPromise = new Promise((resolve) => {\n",
              "    cancel.onclick = () => {\n",
              "      resolve(null);\n",
              "    };\n",
              "  });\n",
              "\n",
              "  // Wait for the user to pick the files.\n",
              "  const files = yield {\n",
              "    promise: Promise.race([pickedPromise, cancelPromise]),\n",
              "    response: {\n",
              "      action: 'starting',\n",
              "    }\n",
              "  };\n",
              "\n",
              "  cancel.remove();\n",
              "\n",
              "  // Disable the input element since further picks are not allowed.\n",
              "  inputElement.disabled = true;\n",
              "\n",
              "  if (!files) {\n",
              "    return {\n",
              "      response: {\n",
              "        action: 'complete',\n",
              "      }\n",
              "    };\n",
              "  }\n",
              "\n",
              "  for (const file of files) {\n",
              "    const li = document.createElement('li');\n",
              "    li.append(span(file.name, {fontWeight: 'bold'}));\n",
              "    li.append(span(\n",
              "        `(${file.type || 'n/a'}) - ${file.size} bytes, ` +\n",
              "        `last modified: ${\n",
              "            file.lastModifiedDate ? file.lastModifiedDate.toLocaleDateString() :\n",
              "                                    'n/a'} - `));\n",
              "    const percent = span('0% done');\n",
              "    li.appendChild(percent);\n",
              "\n",
              "    outputElement.appendChild(li);\n",
              "\n",
              "    const fileDataPromise = new Promise((resolve) => {\n",
              "      const reader = new FileReader();\n",
              "      reader.onload = (e) => {\n",
              "        resolve(e.target.result);\n",
              "      };\n",
              "      reader.readAsArrayBuffer(file);\n",
              "    });\n",
              "    // Wait for the data to be ready.\n",
              "    let fileData = yield {\n",
              "      promise: fileDataPromise,\n",
              "      response: {\n",
              "        action: 'continue',\n",
              "      }\n",
              "    };\n",
              "\n",
              "    // Use a chunked sending to avoid message size limits. See b/62115660.\n",
              "    let position = 0;\n",
              "    do {\n",
              "      const length = Math.min(fileData.byteLength - position, MAX_PAYLOAD_SIZE);\n",
              "      const chunk = new Uint8Array(fileData, position, length);\n",
              "      position += length;\n",
              "\n",
              "      const base64 = btoa(String.fromCharCode.apply(null, chunk));\n",
              "      yield {\n",
              "        response: {\n",
              "          action: 'append',\n",
              "          file: file.name,\n",
              "          data: base64,\n",
              "        },\n",
              "      };\n",
              "\n",
              "      let percentDone = fileData.byteLength === 0 ?\n",
              "          100 :\n",
              "          Math.round((position / fileData.byteLength) * 100);\n",
              "      percent.textContent = `${percentDone}% done`;\n",
              "\n",
              "    } while (position < fileData.byteLength);\n",
              "  }\n",
              "\n",
              "  // All done.\n",
              "  yield {\n",
              "    response: {\n",
              "      action: 'complete',\n",
              "    }\n",
              "  };\n",
              "}\n",
              "\n",
              "scope.google = scope.google || {};\n",
              "scope.google.colab = scope.google.colab || {};\n",
              "scope.google.colab._files = {\n",
              "  _uploadFiles,\n",
              "  _uploadFilesContinue,\n",
              "};\n",
              "})(self);\n",
              "</script> "
            ]
          },
          "metadata": {}
        },
        {
          "output_type": "stream",
          "name": "stdout",
          "text": [
            "Saving brain_tumor_dataset.zip to brain_tumor_dataset (8).zip\n",
            "Dataset uploaded, the path is /content/brain_tumor_dataset/brain_tumor_dataset\n"
          ]
        }
      ]
    },
    {
      "cell_type": "code",
      "execution_count": null,
      "metadata": {
        "colab": {
          "base_uri": "https://localhost:8080/"
        },
        "id": "MqC1R8osYzmq",
        "outputId": "b980d01e-ec66-44d2-b68f-711b7d8632a5"
      },
      "outputs": [
        {
          "output_type": "stream",
          "name": "stdout",
          "text": [
            "The dataset has been split into 6 folders\n"
          ]
        }
      ],
      "source": [
        "import os\n",
        "import shutil\n",
        "import random\n",
        "from sklearn.model_selection import train_test_split\n",
        "\n",
        "# Creating paths for the train, validation, test folders\n",
        "base_dir = \"/content/split_dataset\"\n",
        "train_dir = os.path.join(base_dir, \"train\")\n",
        "val_dir = os.path.join(base_dir, \"val\")\n",
        "test_dir = os.path.join(base_dir, \"test\")\n",
        "\n",
        "# Creating the 6 folders needed for training, validation, testing, each one with a yes and no subfolder.\n",
        "for folder in [train_dir, val_dir, test_dir]:\n",
        "    os.makedirs(os.path.join(folder, \"yes\"), exist_ok=True)\n",
        "    os.makedirs(os.path.join(folder, \"no\"), exist_ok=True)\n",
        "\n",
        "\n",
        "# Getting the 'yes' and 'no' images from the initial dataset\n",
        "yes_images = os.listdir(os.path.join(dataset_path, \"yes\"))\n",
        "no_images = os.listdir(os.path.join(dataset_path, \"no\"))\n",
        "\n",
        "\n",
        "\"\"\"\n",
        "A function which splits the files into training, validation, testing sets and then moves these files to each of the 6 folders previously created.\n",
        "\n",
        "Using a random_state value means that the data will be split the same way every time.\n",
        "\"\"\"\n",
        "def split_and_move(files, category):\n",
        "    train_files, temp_files = train_test_split(files, test_size=0.3, random_state=10) # Splits the files into training (70% of files) and the rest 30% into a temporary file.\n",
        "    val_files, test_files = train_test_split(temp_files, test_size=0.5, random_state=10) # Splits the temporary file in half, used for validation (15%) and testing (15%).\n",
        "\n",
        "    # For each file (f) in each folder, it is moved into the directory (creating 6 folders)\n",
        "    for f in train_files:\n",
        "        shutil.move(os.path.join(dataset_path, category, f), os.path.join(train_dir, category, f)) # Moves all the training files into the training directory\n",
        "    for f in val_files:\n",
        "        shutil.move(os.path.join(dataset_path, category, f), os.path.join(val_dir, category, f)) # Moves all the validation files into the validation directory\n",
        "    for f in test_files:\n",
        "        shutil.move(os.path.join(dataset_path, category, f), os.path.join(test_dir, category, f)) # Moves all the testing files into the validation directory\n",
        "\n",
        "split_and_move(yes_images, \"yes\")\n",
        "split_and_move(no_images, \"no\")\n",
        "\n",
        "print(\"The dataset has been split into 6 folders\")\n",
        "\n"
      ]
    },
    {
      "cell_type": "code",
      "source": [
        "from tensorflow.keras.preprocessing.image import ImageDataGenerator\n",
        "\n",
        "IMG_SIZE = (224, 224) # Defining the size of the images\n",
        "BATCH_SIZE = 20 # Defining how many images can be processed at once\n",
        "\n",
        "data_generator = ImageDataGenerator(rescale=1./255) # This normalizes the pixels of each image, so that they are all in the range 0 to 1.\n",
        "\n",
        "# Loading the data for training, valdiation, and testing\n",
        "train_generator = data_generator.flow_from_directory(\n",
        "    train_dir, target_size=IMG_SIZE, batch_size=BATCH_SIZE, class_mode='binary' # Here shuffle is automatically = True, meaning that different images are used in each epoch for training\n",
        ")\n",
        "\n",
        "val_generator = data_generator.flow_from_directory(\n",
        "    val_dir, target_size=IMG_SIZE, batch_size=BATCH_SIZE, class_mode='binary'\n",
        ")\n",
        "\n",
        "# Here I have set shuffle = False in order to have steady testing data which is in the same order every time.\n",
        "test_generator = data_generator.flow_from_directory(\n",
        "    test_dir, target_size=IMG_SIZE, batch_size=BATCH_SIZE, class_mode='binary', shuffle = False\n",
        ")\n"
      ],
      "metadata": {
        "colab": {
          "base_uri": "https://localhost:8080/"
        },
        "id": "WX7iO3vRi7GW",
        "outputId": "61cac45e-9022-43d9-bd61-33cade529e33"
      },
      "execution_count": null,
      "outputs": [
        {
          "output_type": "stream",
          "name": "stdout",
          "text": [
            "Found 205 images belonging to 2 classes.\n",
            "Found 60 images belonging to 2 classes.\n",
            "Found 65 images belonging to 2 classes.\n"
          ]
        }
      ]
    },
    {
      "cell_type": "code",
      "source": [
        "from tensorflow.keras.models import Sequential\n",
        "from tensorflow.keras.layers import Conv2D, MaxPooling2D, Flatten, Dense, Dropout, BatchNormalization\n",
        "from tensorflow.keras.optimizers import Adam\n",
        "\n",
        "# I am creating a convolutional neural network (CNN) model which allows for feature extraction, and then classifying the images using fully connected layers\n",
        "model = Sequential([\n",
        "                    Conv2D(16, (3,3), activation='relu', input_shape=(224,224,3)), # Creating the first convolutional layer, with 16 filters to find basic patterns\n",
        "                    MaxPooling2D(2,2), # Adding a pooling layer to reduce the size of the feature maps that are produced\n",
        "\n",
        "                    # The size of the filters doubles each time in order to find more complex patterns in the images\n",
        "                    Conv2D(32, (3,3), activation='relu'),\n",
        "                    MaxPooling2D(2,2),\n",
        "\n",
        "                    Conv2D(64, (3,3), activation='relu'),\n",
        "                    MaxPooling2D(2,2),\n",
        "\n",
        "                    Conv2D(128, (3,3), activation='relu'),\n",
        "                    MaxPooling2D(2,2),\n",
        "\n",
        "                    # Below begins the fully connected layers, with dropout layers in between them to help reduce overfitting.\n",
        "\n",
        "                    Flatten(), # This is needed in order to transform the 2D feature maps into a 1D input which can be processed by the fully connected layers\n",
        "                    Dense(128, activation = 'relu'),\n",
        "                    Dropout(0.4),\n",
        "                    Dense(64, activation = 'relu'),\n",
        "                    Dropout(0.4),\n",
        "                    Dense(32, activation = 'relu'),\n",
        "\n",
        "                    Dense(1, activation = 'sigmoid') # The Sigmoid activation function is used to generate a value from 0 (No Tumor) to 1 (Tumor) and thus classify the image\n",
        "                    ])\n",
        "\n",
        "# Creating the model, using the Adam optimizer and a learning rate of 0.0001.\n",
        "model.compile(optimizer=Adam(learning_rate=0.0001),\n",
        "              loss='binary_crossentropy',\n",
        "              metrics=['accuracy'])\n",
        "\n",
        "\n",
        "EPOCHS = 10\n",
        "BATCH_SIZE = 20 # As before in the dataset (processes 20 images at a time)\n",
        "\n",
        "# Training the model\n",
        "history = model.fit(\n",
        "    train_generator,  # Training dataset\n",
        "    validation_data=val_generator,  # Validation dataset\n",
        "    epochs=EPOCHS\n",
        ")\n",
        "\n",
        "test_loss, test_acc = model.evaluate(test_generator)\n",
        "print(\"Test Accuracy:\", test_acc)\n",
        "print(\"Test Loss: \", test_loss)\n",
        "\n",
        "\n",
        "\n"
      ],
      "metadata": {
        "colab": {
          "base_uri": "https://localhost:8080/"
        },
        "collapsed": true,
        "id": "OxiU7Wvok0ho",
        "outputId": "694a5905-adad-4d57-dc55-47bb4320f002"
      },
      "execution_count": null,
      "outputs": [
        {
          "output_type": "stream",
          "name": "stdout",
          "text": [
            "Epoch 1/10\n"
          ]
        },
        {
          "output_type": "stream",
          "name": "stderr",
          "text": [
            "/usr/local/lib/python3.11/dist-packages/keras/src/layers/convolutional/base_conv.py:107: UserWarning: Do not pass an `input_shape`/`input_dim` argument to a layer. When using Sequential models, prefer using an `Input(shape)` object as the first layer in the model instead.\n",
            "  super().__init__(activity_regularizer=activity_regularizer, **kwargs)\n"
          ]
        },
        {
          "output_type": "stream",
          "name": "stdout",
          "text": [
            "\u001b[1m11/11\u001b[0m \u001b[32m━━━━━━━━━━━━━━━━━━━━\u001b[0m\u001b[37m\u001b[0m \u001b[1m9s\u001b[0m 625ms/step - accuracy: 0.6436 - loss: 0.6630 - val_accuracy: 0.6667 - val_loss: 0.6152\n",
            "Epoch 2/10\n",
            "\u001b[1m11/11\u001b[0m \u001b[32m━━━━━━━━━━━━━━━━━━━━\u001b[0m\u001b[37m\u001b[0m \u001b[1m10s\u001b[0m 607ms/step - accuracy: 0.6516 - loss: 0.6330 - val_accuracy: 0.6667 - val_loss: 0.5895\n",
            "Epoch 3/10\n",
            "\u001b[1m11/11\u001b[0m \u001b[32m━━━━━━━━━━━━━━━━━━━━\u001b[0m\u001b[37m\u001b[0m \u001b[1m10s\u001b[0m 560ms/step - accuracy: 0.6195 - loss: 0.6112 - val_accuracy: 0.6667 - val_loss: 0.5806\n",
            "Epoch 4/10\n",
            "\u001b[1m11/11\u001b[0m \u001b[32m━━━━━━━━━━━━━━━━━━━━\u001b[0m\u001b[37m\u001b[0m \u001b[1m7s\u001b[0m 615ms/step - accuracy: 0.6574 - loss: 0.5762 - val_accuracy: 0.6667 - val_loss: 0.5870\n",
            "Epoch 5/10\n",
            "\u001b[1m11/11\u001b[0m \u001b[32m━━━━━━━━━━━━━━━━━━━━\u001b[0m\u001b[37m\u001b[0m \u001b[1m10s\u001b[0m 621ms/step - accuracy: 0.6877 - loss: 0.5470 - val_accuracy: 0.7833 - val_loss: 0.5569\n",
            "Epoch 6/10\n",
            "\u001b[1m11/11\u001b[0m \u001b[32m━━━━━━━━━━━━━━━━━━━━\u001b[0m\u001b[37m\u001b[0m \u001b[1m6s\u001b[0m 571ms/step - accuracy: 0.7118 - loss: 0.6230 - val_accuracy: 0.7667 - val_loss: 0.5429\n",
            "Epoch 7/10\n",
            "\u001b[1m11/11\u001b[0m \u001b[32m━━━━━━━━━━━━━━━━━━━━\u001b[0m\u001b[37m\u001b[0m \u001b[1m7s\u001b[0m 619ms/step - accuracy: 0.7465 - loss: 0.5450 - val_accuracy: 0.7500 - val_loss: 0.5563\n",
            "Epoch 8/10\n",
            "\u001b[1m11/11\u001b[0m \u001b[32m━━━━━━━━━━━━━━━━━━━━\u001b[0m\u001b[37m\u001b[0m \u001b[1m7s\u001b[0m 642ms/step - accuracy: 0.7524 - loss: 0.4970 - val_accuracy: 0.7667 - val_loss: 0.5412\n",
            "Epoch 9/10\n",
            "\u001b[1m11/11\u001b[0m \u001b[32m━━━━━━━━━━━━━━━━━━━━\u001b[0m\u001b[37m\u001b[0m \u001b[1m6s\u001b[0m 568ms/step - accuracy: 0.7551 - loss: 0.5056 - val_accuracy: 0.7667 - val_loss: 0.5313\n",
            "Epoch 10/10\n",
            "\u001b[1m11/11\u001b[0m \u001b[32m━━━━━━━━━━━━━━━━━━━━\u001b[0m\u001b[37m\u001b[0m \u001b[1m7s\u001b[0m 720ms/step - accuracy: 0.7481 - loss: 0.5951 - val_accuracy: 0.7833 - val_loss: 0.5165\n",
            "\u001b[1m4/4\u001b[0m \u001b[32m━━━━━━━━━━━━━━━━━━━━\u001b[0m\u001b[37m\u001b[0m \u001b[1m1s\u001b[0m 138ms/step - accuracy: 0.7490 - loss: 0.6121\n",
            "Test Accuracy: 0.8307692408561707\n",
            "Test Loss:  0.484702467918396\n"
          ]
        }
      ]
    },
    {
      "cell_type": "code",
      "source": [
        "import matplotlib.pyplot as plt\n",
        "\n",
        "\n",
        "plt.figure(figsize=(12, 4)) # Size of the plot (including two plots)\n",
        "\n",
        "# Plotting Training vs. Validation Accuracy\n",
        "plt.subplot(1,2,1)\n",
        "plt.plot(history.history['accuracy'], label='Train Accuracy') # Getting the accuracy values\n",
        "plt.plot(history.history['val_accuracy'], label='Validation Accuracy') # Getting the validation accuracy values\n",
        "plt.legend()\n",
        "plt.title('Model Accuracy')\n",
        "\n",
        "# Plotting Training vs. Validation Loss\n",
        "plt.subplot(1,2,2)\n",
        "plt.plot(history.history['loss'], label='Train Loss') # Getting the loss values\n",
        "plt.plot(history.history['val_loss'], label='Validation Loss') # Getting the validation loss values\n",
        "plt.legend()\n",
        "plt.title('Model Loss')\n",
        "\n",
        "plt.show()"
      ],
      "metadata": {
        "colab": {
          "base_uri": "https://localhost:8080/",
          "height": 391
        },
        "id": "ysQs_e2SspPc",
        "outputId": "8e193cf5-2e77-4c9c-817e-f2a314e69108"
      },
      "execution_count": null,
      "outputs": [
        {
          "output_type": "display_data",
          "data": {
            "text/plain": [
              "<Figure size 1200x400 with 2 Axes>"
            ],
            "image/png": "[encoded data removed]"
          },
          "metadata": {}
        }
      ]
    }
  ]
}